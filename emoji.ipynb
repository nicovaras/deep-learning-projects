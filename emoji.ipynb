{
  "cells": [
    {
      "cell_type": "code",
      "execution_count": 1,
      "metadata": {
        "id": "9YRWTLG8itg6"
      },
      "outputs": [],
      "source": [
        "!pip install -q kaggle"
      ]
    },
    {
      "cell_type": "code",
      "execution_count": null,
      "metadata": {
        "id": "GjgYT7rnjM5a"
      },
      "outputs": [],
      "source": [
        "from google.colab import files\n",
        "files.upload()"
      ]
    },
    {
      "cell_type": "code",
      "execution_count": 3,
      "metadata": {
        "id": "kGEZoaYujURY"
      },
      "outputs": [],
      "source": [
        "!mkdir ~/.kaggle"
      ]
    },
    {
      "cell_type": "code",
      "execution_count": 4,
      "metadata": {
        "id": "e8ruEy3NjZXw"
      },
      "outputs": [],
      "source": [
        "!cp \"kaggle.json\" ~/.kaggle/kaggle.json"
      ]
    },
    {
      "cell_type": "code",
      "execution_count": 5,
      "metadata": {
        "id": "XzRgXo3bjba4"
      },
      "outputs": [],
      "source": [
        "!chmod 600 ~/.kaggle/kaggle.json"
      ]
    },
    {
      "cell_type": "code",
      "execution_count": 6,
      "metadata": {
        "colab": {
          "base_uri": "https://localhost:8080/"
        },
        "id": "2AfLRiEUjden",
        "outputId": "7589b5b9-9f3e-4ecb-d0da-cddbc031ed46"
      },
      "outputs": [
        {
          "output_type": "stream",
          "name": "stdout",
          "text": [
            "Downloading emojifydata-en.zip to /content\n",
            "100% 884M/886M [00:11<00:00, 78.9MB/s]\n",
            "100% 886M/886M [00:11<00:00, 82.9MB/s]\n"
          ]
        }
      ],
      "source": [
        "!kaggle datasets download rexhaif/emojifydata-en"
      ]
    },
    {
      "cell_type": "code",
      "execution_count": 7,
      "metadata": {
        "colab": {
          "base_uri": "https://localhost:8080/"
        },
        "id": "t3gpol5hjfWw",
        "outputId": "6a28fe78-c4e0-4c1f-e887-264bbd38a4f0"
      },
      "outputs": [
        {
          "output_type": "stream",
          "name": "stdout",
          "text": [
            "Archive:  emojifydata-en.zip\n",
            "  inflating: train/dev.txt           \n",
            "  inflating: train/emojitweets-01-04-2018.txt  \n",
            "  inflating: train/test.txt          \n",
            "  inflating: train/train.txt         \n"
          ]
        }
      ],
      "source": [
        "!mkdir train\n",
        "!unzip emojifydata-en.zip -d train"
      ]
    },
    {
      "cell_type": "code",
      "execution_count": 8,
      "metadata": {
        "colab": {
          "base_uri": "https://localhost:8080/"
        },
        "id": "ps1HfVk6jsCR",
        "outputId": "48c9f9cb-1de8-49e2-f3ff-6a6cce8fc64d"
      },
      "outputs": [
        {
          "output_type": "stream",
          "name": "stdout",
          "text": [
            "total 2515116\n",
            "drwxr-xr-x 2 root root       4096 Apr 28 14:57 .\n",
            "drwxr-xr-x 1 root root       4096 Apr 28 14:57 ..\n",
            "-rw-r--r-- 1 root root  209891747 Oct 24  2019 dev.txt\n",
            "-rw-r--r-- 1 root root 1263662857 Oct 24  2019 emojitweets-01-04-2018.txt\n",
            "-rw-r--r-- 1 root root  262392742 Oct 24  2019 test.txt\n",
            "-rw-r--r-- 1 root root  839507033 Oct 24  2019 train.txt\n"
          ]
        }
      ],
      "source": [
        "!ls -al train"
      ]
    },
    {
      "cell_type": "code",
      "execution_count": 9,
      "metadata": {
        "id": "0DUY_YthkuWV",
        "colab": {
          "base_uri": "https://localhost:8080/"
        },
        "outputId": "6cebcbed-62ad-44e4-961a-45de17fdf2df"
      },
      "outputs": [
        {
          "output_type": "stream",
          "name": "stdout",
          "text": [
            "Tensorflow version 2.12.0\n"
          ]
        }
      ],
      "source": [
        "import pandas as pd\n",
        "import gc\n",
        "import tqdm\n",
        "import numpy as np\n",
        "import re\n",
        "import string\n",
        "import tensorflow as tf\n",
        "from keras.utils import pad_sequences\n",
        "from keras.models import Sequential\n",
        "from keras.layers import Embedding, LSTM, Dense, Dropout, GRU, BatchNormalization\n",
        "from keras.callbacks import EarlyStopping\n",
        "from keras.preprocessing.text import Tokenizer\n",
        "from tensorflow.keras.layers import Input, Attention, Concatenate, TimeDistributed\n",
        "from tensorflow.keras.models import Model\n",
        "from tensorflow.keras.metrics import SparseTopKCategoricalAccuracy\n",
        "\n",
        "import tensorflow as tf\n",
        "print(\"Tensorflow version \" + tf.__version__)\n"
      ]
    },
    {
      "cell_type": "code",
      "execution_count": 10,
      "metadata": {
        "colab": {
          "base_uri": "https://localhost:8080/"
        },
        "id": "ecf4nqNna9GY",
        "outputId": "abac2483-be1c-48a5-babc-59d2d834a044"
      },
      "outputs": [
        {
          "output_type": "stream",
          "name": "stdout",
          "text": [
            "Running on TPU  ['10.17.206.170:8470']\n"
          ]
        }
      ],
      "source": [
        "try:\n",
        "  tpu = tf.distribute.cluster_resolver.TPUClusterResolver()  # TPU detection\n",
        "  print('Running on TPU ', tpu.cluster_spec().as_dict()['worker'])\n",
        "except ValueError:\n",
        "  raise BaseException('ERROR: Not connected to a TPU runtime; please see the previous cell in this notebook for instructions!')\n",
        "\n",
        "tf.config.experimental_connect_to_cluster(tpu)\n",
        "tf.tpu.experimental.initialize_tpu_system(tpu)\n",
        "tpu_strategy = tf.distribute.TPUStrategy(tpu)"
      ]
    },
    {
      "cell_type": "code",
      "source": [
        "f = open('train/train.txt', 'r')\n",
        "lines = f.readlines()\n",
        "len(lines)"
      ],
      "metadata": {
        "id": "r5FIzeM5D3XJ",
        "colab": {
          "base_uri": "https://localhost:8080/"
        },
        "outputId": "a15aaa42-3035-4903-dd24-2985e38c2744"
      },
      "execution_count": 11,
      "outputs": [
        {
          "output_type": "execute_result",
          "data": {
            "text/plain": [
              "99514776"
            ]
          },
          "metadata": {},
          "execution_count": 11
        }
      ]
    },
    {
      "cell_type": "code",
      "source": [
        "for i in tqdm.tqdm(range(len(lines))):\n",
        "    lines[i] = lines[i].strip()\n",
        "lines[:50]"
      ],
      "metadata": {
        "id": "e9lz_-zHD5VH",
        "colab": {
          "base_uri": "https://localhost:8080/"
        },
        "outputId": "6af37e5f-7412-4823-f810-ca9ebced1b2a"
      },
      "execution_count": 12,
      "outputs": [
        {
          "output_type": "stream",
          "name": "stderr",
          "text": [
            "100%|██████████| 99514776/99514776 [00:46<00:00, 2156775.12it/s]\n"
          ]
        },
        {
          "output_type": "execute_result",
          "data": {
            "text/plain": [
              "['<START> O',\n",
              " 'CeeC O',\n",
              " 'is O',\n",
              " 'going O',\n",
              " 'to O',\n",
              " 'be O',\n",
              " 'another O',\n",
              " 'Tboss O',\n",
              " 'What O',\n",
              " 'is O',\n",
              " '45 O',\n",
              " 'million O',\n",
              " 'Naira :face_with_tears_of_joy:',\n",
              " '<STOP> O',\n",
              " '',\n",
              " '<START> O',\n",
              " 'This O',\n",
              " 'gif O',\n",
              " 'kills O',\n",
              " 'me O',\n",
              " 'Death O',\n",
              " 'is O',\n",
              " 'literally O',\n",
              " 'gushing O',\n",
              " 'towards O',\n",
              " 'you O',\n",
              " 'and O',\n",
              " 'you O',\n",
              " 'really O',\n",
              " 'gon O',\n",
              " 'do O',\n",
              " 'a O',\n",
              " 'whole O',\n",
              " '3point O',\n",
              " 'turn :weary_face:',\n",
              " '<STOP> O',\n",
              " '',\n",
              " '<START> O',\n",
              " 'LOVE O',\n",
              " 'TEST O',\n",
              " 'Raw O',\n",
              " 'Real O',\n",
              " 'JaDine :purple_heart:',\n",
              " '<STOP> O',\n",
              " '',\n",
              " '<START> O',\n",
              " 'i O',\n",
              " 'swear O',\n",
              " 'we O',\n",
              " 'dont O']"
            ]
          },
          "metadata": {},
          "execution_count": 12
        }
      ]
    },
    {
      "cell_type": "code",
      "source": [
        "for i in tqdm.tqdm(range(len(lines))):\n",
        "  if lines[i] != '' and lines[i][-1] == 'O':\n",
        "    lines[i] = lines[i][:-2]\n",
        "lines[:50]"
      ],
      "metadata": {
        "id": "2pQ1tkWvEASj",
        "colab": {
          "base_uri": "https://localhost:8080/"
        },
        "outputId": "35ecf21c-ed44-4f7e-c5cf-5a68513f7457"
      },
      "execution_count": 13,
      "outputs": [
        {
          "output_type": "stream",
          "name": "stderr",
          "text": [
            "100%|██████████| 99514776/99514776 [00:55<00:00, 1782885.11it/s]\n"
          ]
        },
        {
          "output_type": "execute_result",
          "data": {
            "text/plain": [
              "['<START>',\n",
              " 'CeeC',\n",
              " 'is',\n",
              " 'going',\n",
              " 'to',\n",
              " 'be',\n",
              " 'another',\n",
              " 'Tboss',\n",
              " 'What',\n",
              " 'is',\n",
              " '45',\n",
              " 'million',\n",
              " 'Naira :face_with_tears_of_joy:',\n",
              " '<STOP>',\n",
              " '',\n",
              " '<START>',\n",
              " 'This',\n",
              " 'gif',\n",
              " 'kills',\n",
              " 'me',\n",
              " 'Death',\n",
              " 'is',\n",
              " 'literally',\n",
              " 'gushing',\n",
              " 'towards',\n",
              " 'you',\n",
              " 'and',\n",
              " 'you',\n",
              " 'really',\n",
              " 'gon',\n",
              " 'do',\n",
              " 'a',\n",
              " 'whole',\n",
              " '3point',\n",
              " 'turn :weary_face:',\n",
              " '<STOP>',\n",
              " '',\n",
              " '<START>',\n",
              " 'LOVE',\n",
              " 'TEST',\n",
              " 'Raw',\n",
              " 'Real',\n",
              " 'JaDine :purple_heart:',\n",
              " '<STOP>',\n",
              " '',\n",
              " '<START>',\n",
              " 'i',\n",
              " 'swear',\n",
              " 'we',\n",
              " 'dont']"
            ]
          },
          "metadata": {},
          "execution_count": 13
        }
      ]
    },
    {
      "cell_type": "code",
      "source": [
        "cleaned_tweets = []\n",
        "for i in tqdm.tqdm(range(len(lines))):\n",
        "    if '<START>' in lines[i]:\n",
        "        tweet = []\n",
        "        if lines[i] != '<START>':\n",
        "          tweet.append(lines[i].split(' ')[1])\n",
        "    elif lines[i] == '<STOP>':\n",
        "        cleaned_tweets.append(' '.join(tweet))\n",
        "    else:\n",
        "        if lines[i] != '':\n",
        "            tweet.append(lines[i])\n",
        "len(cleaned_tweets), cleaned_tweets[:50]"
      ],
      "metadata": {
        "id": "wdQYN6daEChM",
        "colab": {
          "base_uri": "https://localhost:8080/"
        },
        "outputId": "b9a5527c-53ed-4ad1-aa07-e2312fa8dded"
      },
      "execution_count": 14,
      "outputs": [
        {
          "output_type": "stream",
          "name": "stderr",
          "text": [
            "100%|██████████| 99514776/99514776 [01:00<00:00, 1652691.61it/s]\n"
          ]
        },
        {
          "output_type": "execute_result",
          "data": {
            "text/plain": [
              "(6567625,\n",
              " ['CeeC is going to be another Tboss What is 45 million Naira :face_with_tears_of_joy:',\n",
              "  'This gif kills me Death is literally gushing towards you and you really gon do a whole 3point turn :weary_face:',\n",
              "  'LOVE TEST Raw Real JaDine :purple_heart:',\n",
              "  'i swear we dont gotta look it finds us :face_with_tears_of_joy:',\n",
              "  'We would like to wish everyone a very Happy New Year and all the best in 2018 :party_popper:',\n",
              "  '15000 retweets a new song song off “ Swaecation “ part 2 of unforgettable go :speaking_head: 🏽 🏽',\n",
              "  'just know ilysm k bye friend :purple_heart:',\n",
              "  'Too glam to give a damn :sparkles:',\n",
              "  ':clapping_hands: 🏼 :clapping_hands: 🏼 fuck that sicko',\n",
              "  'Can I marry someone who understands all these memes :loudly_crying_face:',\n",
              "  'My week on Twitter :party_popper: 2 Tweets See yours with',\n",
              "  'rt this to gain seokjin stan mutuals follow everyone who retweets this and make sure to follow back :smiling_face_with_heart-eyes:',\n",
              "  'theyre 14 so i mean :person_shrugging: 🏻 \\u200d :female_sign: ️',\n",
              "  'Your artist got a dope sound my boy runs DM them this song for a post :fire:',\n",
              "  ':face_with_tears_of_joy: mannn sometimes we gotta take one to the face :person_facepalming: 🏾 \\u200d :male_sign: ️',\n",
              "  'Awwee :loudly_crying_face: you got it :red_heart: ️ ️',\n",
              "  '“ Like that but cat ” crying :face_with_tears_of_joy:',\n",
              "  'i aint too hard to tell you how i feel :hundred_points:',\n",
              "  'i luvv her so much :red_heart: ️',\n",
              "  'We fit together like a mortise amp tenon joint with the added security of the odd screw carpenters sext Nailed it :raising_hands:',\n",
              "  'YOU SO FUCKIN PRECIOUS WHEN YOU SMILEEE :smiling_face_with_heart-eyes:',\n",
              "  'When your favorite actor supports your favorite team :smiling_face_with_heart-eyes: 🏻',\n",
              "  'Your first opportunity to see the reigning 60meter champion :trophy: Xavier Smith is Jan 13 as the Nittany Lions ho …',\n",
              "  'arons friend ig update Its weird but still proud :face_with_tears_of_joy: Day 3',\n",
              "  'Do em how they do yu :speaking_head:',\n",
              "  'Guess we better hop on the mic and hope for the best :person_shrugging: 🏽 \\u200d :female_sign: ️',\n",
              "  'Will Smith at it again in our beautiful Colombia with 🇨 🇴 :fire: 🏽',\n",
              "  'He is like an angel :smiling_face_with_heart-eyes:',\n",
              "  'AHHH AINT MY NAME MY MAMA DIDNT NAME ME AHHH :loudly_crying_face:',\n",
              "  'i have a whole closet full of clothes yet i never have anything to wear :person_facepalming: 🏻 \\u200d :female_sign: ️',\n",
              "  'yooo the moon looks extra beautiful tonighttt :weary_face:',\n",
              "  'I love how American staff greet you :beaming_face_with_smiling_eyes:',\n",
              "  ':backhand_index_pointing_down: 🏾 🇬 🇧 2018 UK Rap and Drill March Madness Mixed by',\n",
              "  'Assalam o Alaikum wr wb :two_hearts: jumma Mubarak :two_hearts: May Allah cleanse our hearts from Hypocrisy and grant us sincerity …',\n",
              "  'Virgins will kiss you the whole day and text you the next day on some Yesterday babe :smiling_face_with_heart-eyes: Bitch Yesterday ini …',\n",
              "  'Thank you so much beautiful :heart_suit: ️ :heart_suit: ️',\n",
              "  'Jinan IG story Juneya wake up lets go to the fansign :red_heart:',\n",
              "  'dude in the middle 🏽 \\u200d :male_sign: ️',\n",
              "  'LOOL HIS VOICE AT THE END :face_with_tears_of_joy: DEAD :skull:',\n",
              "  ':face_with_tears_of_joy: You gotta laugh Seth just wants to play with his big sister so bad',\n",
              "  'Hi my friend where are you are you okay :thumbs_up:',\n",
              "  'Girls like it when you 1 Spoil them 2 Call them beautiful :heart_suit: 3 Show you care not just say it 4 Give them a hoodie that smells like you :heart_suit:',\n",
              "  'Russ just handed in his 2nd career game with 20 pts and 20 ast :fire:',\n",
              "  'So we gon act like the last girl aint just weaved a jutsu sign :face_with_tears_of_joy:',\n",
              "  'My room in the new house has a walk in closet and Im in love :smiling_face_with_heart-eyes:',\n",
              "  'Someone could be needing our services and that person could be on your timeline Kindly Retweet :folded_hands:',\n",
              "  'BOOM just retweeted iHearts tweet about GAME OVER ITS OVER FOR WHOEVER IS AGAINST US :face_with_tears_of_joy:',\n",
              "  'Road to 3M tweets Anything is possible when ARMYS from all over the world work together :flexed_biceps: 🏼 :flexed_biceps: 🏼 TAE TAE',\n",
              "  'This is too funny :face_with_tears_of_joy:',\n",
              "  '“ Take a picture Take a picture Take a picture ” Shes so cute :loudly_crying_face:'])"
            ]
          },
          "metadata": {},
          "execution_count": 14
        }
      ]
    },
    {
      "cell_type": "code",
      "source": [
        "del lines\n",
        "gc.collect()"
      ],
      "metadata": {
        "id": "phmwDVqTEEMj",
        "colab": {
          "base_uri": "https://localhost:8080/"
        },
        "outputId": "76ca912d-acf2-4a5d-fe9b-e49f3471f702"
      },
      "execution_count": 15,
      "outputs": [
        {
          "output_type": "execute_result",
          "data": {
            "text/plain": [
              "0"
            ]
          },
          "metadata": {},
          "execution_count": 15
        }
      ]
    },
    {
      "cell_type": "code",
      "source": [
        "cleaned_tweets = [x for x in cleaned_tweets if x[0]!=':']"
      ],
      "metadata": {
        "id": "NXYd5pLZEGll"
      },
      "execution_count": 16,
      "outputs": []
    },
    {
      "cell_type": "code",
      "source": [
        "tweets = []\n",
        "labels = []\n",
        "for i in tqdm.tqdm(range(len(cleaned_tweets))):\n",
        "  arr = cleaned_tweets[i].split(':')\n",
        "  tweets.append(arr[0].strip())\n",
        "  labels.append(arr[1])"
      ],
      "metadata": {
        "id": "EXlAyAgAEIdF",
        "colab": {
          "base_uri": "https://localhost:8080/"
        },
        "outputId": "063c4ea8-a35f-48cc-fd0d-585f3954a819"
      },
      "execution_count": 17,
      "outputs": [
        {
          "output_type": "stream",
          "name": "stderr",
          "text": [
            "100%|██████████| 6097411/6097411 [00:08<00:00, 709393.67it/s]\n"
          ]
        }
      ]
    },
    {
      "cell_type": "code",
      "source": [
        "chosen_labels = list(pd.Series(labels).value_counts().iloc[:5].index)\n",
        "chosen_labels = ['person_facepalming',\n",
        "                'rolling_on_the_floor_laughing',\n",
        "                'folded_hands',\n",
        "                'weary_face',\n",
        "                'thinking_face']\n",
        "filtered_tweets = []\n",
        "filtered_labels = []\n",
        "\n",
        "for i in tqdm.tqdm(range(len(tweets))):\n",
        "    if labels[i] in chosen_labels:\n",
        "        filtered_tweets.append(tweets[i])\n",
        "        filtered_labels.append(labels[i])\n",
        "filtered_tweets[:10], filtered_labels[:10], len(filtered_tweets), len(filtered_labels)"
      ],
      "metadata": {
        "id": "nbBzIFYUEKUK",
        "colab": {
          "base_uri": "https://localhost:8080/"
        },
        "outputId": "24982794-d8fd-4dc5-e2a9-e95527c3164d"
      },
      "execution_count": 18,
      "outputs": [
        {
          "output_type": "stream",
          "name": "stderr",
          "text": [
            "100%|██████████| 6097411/6097411 [00:03<00:00, 1704576.84it/s]\n"
          ]
        },
        {
          "output_type": "execute_result",
          "data": {
            "text/plain": [
              "(['This gif kills me Death is literally gushing towards you and you really gon do a whole 3point turn',\n",
              "  'i have a whole closet full of clothes yet i never have anything to wear',\n",
              "  'yooo the moon looks extra beautiful tonighttt',\n",
              "  'Someone could be needing our services and that person could be on your timeline Kindly Retweet',\n",
              "  'WANT 150FOLLOWERS FAST',\n",
              "  'We are not crying You are CRYING',\n",
              "  'Am i attracted to needy niccas',\n",
              "  'i wanna just go back to sleep but i cant',\n",
              "  'A girl cartwheeled into my DMs amp said You look like the type of man Id let take me for a meal',\n",
              "  'Another acceptance letter'],\n",
              " ['weary_face',\n",
              "  'person_facepalming',\n",
              "  'weary_face',\n",
              "  'folded_hands',\n",
              "  'thinking_face',\n",
              "  'weary_face',\n",
              "  'thinking_face',\n",
              "  'weary_face',\n",
              "  'weary_face',\n",
              "  'folded_hands'],\n",
              " 661309,\n",
              " 661309)"
            ]
          },
          "metadata": {},
          "execution_count": 18
        }
      ]
    },
    {
      "cell_type": "code",
      "source": [
        "tweets = filtered_tweets\n",
        "labels = filtered_labels\n",
        "len(tweets)"
      ],
      "metadata": {
        "id": "rtrtcAaTEMVC",
        "colab": {
          "base_uri": "https://localhost:8080/"
        },
        "outputId": "1b158cae-c27f-4ab3-c036-d86f3672ae1a"
      },
      "execution_count": 19,
      "outputs": [
        {
          "output_type": "execute_result",
          "data": {
            "text/plain": [
              "661309"
            ]
          },
          "metadata": {},
          "execution_count": 19
        }
      ]
    },
    {
      "cell_type": "code",
      "source": [
        "for i in tqdm.tqdm(range(len(tweets))):\n",
        "    tweets[i] = tweets[i].lower()"
      ],
      "metadata": {
        "id": "FcWKonhZEN0r",
        "colab": {
          "base_uri": "https://localhost:8080/"
        },
        "outputId": "634f03e2-8b58-4403-9561-0b97ac5b412d"
      },
      "execution_count": 20,
      "outputs": [
        {
          "output_type": "stream",
          "name": "stderr",
          "text": [
            "100%|██████████| 661309/661309 [00:00<00:00, 1282809.74it/s]\n"
          ]
        }
      ]
    },
    {
      "cell_type": "code",
      "source": [
        "tweets = [tweet.lower() for tweet in tweets]\n",
        "\n",
        "tweets = [re.sub(r'#\\w+', '[HASHTAG]', tweet) for tweet in tweets]\n",
        "tweets = [re.sub(r'@\\w+', '[MENTION]', tweet) for tweet in tweets]\n",
        "tweets = [re.sub(r'http\\S+', '[URL]', tweet) for tweet in tweets]\n",
        "\n",
        "tweets = [re.sub(r'[^\\w\\s]', '', tweet) for tweet in tweets]\n",
        "\n",
        "for i in tqdm.tqdm(range(len(tweets))):\n",
        "  arr = tweets[i].split(' ')\n",
        "  arr = [x for x in arr if x != '']\n",
        "  tweets[i] = ' '.join(arr)"
      ],
      "metadata": {
        "id": "-MTJb7JpEPSH",
        "colab": {
          "base_uri": "https://localhost:8080/"
        },
        "outputId": "d6665c29-d1cd-4df9-d64b-b466fe4216d9"
      },
      "execution_count": 21,
      "outputs": [
        {
          "output_type": "stream",
          "name": "stderr",
          "text": [
            "100%|██████████| 661309/661309 [00:01<00:00, 468728.75it/s]\n"
          ]
        }
      ]
    },
    {
      "cell_type": "code",
      "source": [
        "label_dict = {}\n",
        "for label in labels:\n",
        "    if label not in label_dict:\n",
        "        label_dict[label] = len(label_dict)\n",
        "\n",
        "label_ids = [label_dict[label] for label in labels]\n",
        "label_ids[:10]"
      ],
      "metadata": {
        "id": "-smd9A2aERTZ",
        "colab": {
          "base_uri": "https://localhost:8080/"
        },
        "outputId": "fa6a203c-58fa-45c2-ea0f-614e5f78897a"
      },
      "execution_count": 22,
      "outputs": [
        {
          "output_type": "execute_result",
          "data": {
            "text/plain": [
              "[0, 1, 0, 2, 3, 0, 3, 0, 0, 2]"
            ]
          },
          "metadata": {},
          "execution_count": 22
        }
      ]
    },
    {
      "cell_type": "code",
      "source": [
        "tokenized_tweets = [tweet.strip().split() for tweet in tweets]"
      ],
      "metadata": {
        "id": "QjbXPDkHEVuk"
      },
      "execution_count": 23,
      "outputs": []
    },
    {
      "cell_type": "code",
      "source": [
        "max_words = 50000\n",
        "max_length = 32\n",
        "\n",
        "with tpu_strategy.scope():\n",
        "  tokenizer = Tokenizer(num_words=max_words)\n",
        "  tokenizer.fit_on_texts(tokenized_tweets)\n",
        "  sequences = tokenizer.texts_to_sequences(tokenized_tweets)\n",
        "  padded_tweets = pad_sequences(sequences, maxlen=max_length, padding='post', truncating='post')\n"
      ],
      "metadata": {
        "id": "frP03wtwEXbZ"
      },
      "execution_count": 24,
      "outputs": []
    },
    {
      "cell_type": "code",
      "source": [
        "validation_split = 0.1\n",
        "\n",
        "num_validation_samples = int(validation_split * len(padded_tweets))\n",
        "x_train = padded_tweets[:-num_validation_samples]\n",
        "y_train = np.array(label_ids[:-num_validation_samples])\n",
        "x_val = padded_tweets[-num_validation_samples:]\n",
        "y_val = np.array(label_ids[-num_validation_samples:])"
      ],
      "metadata": {
        "id": "SHOs26UOEacj"
      },
      "execution_count": 28,
      "outputs": []
    },
    {
      "cell_type": "code",
      "source": [
        "batch_size = 1024\n",
        "num_epochs = 30\n",
        "lr = 1e-5\n",
        "\n",
        "with tpu_strategy.scope():\n",
        "  inputs = Input(shape=(32))\n",
        "  embedding = Embedding(input_dim=4096, output_dim=1024, input_length=max_length)(inputs)\n",
        "\n",
        "  out_layer = embedding\n",
        "  for i in range(2):\n",
        "    gru = GRU(1024, activation='relu', return_sequences=True)(out_layer)\n",
        "    batch_norm = BatchNormalization()(gru)\n",
        "    dropout = Dropout(0.5)(batch_norm)\n",
        "    attention = Attention()([dropout, dropout])\n",
        "    out_layer = Concatenate(axis=-1)([dropout, attention])\n",
        "\n",
        "  gru = GRU(512, activation='relu')(out_layer)\n",
        "  batch_norm = BatchNormalization()(gru)\n",
        "  dropout = Dropout(0.5)(batch_norm)\n",
        "\n",
        "  outputs = Dense(5, activation='softmax')(dropout)\n",
        "\n",
        "  optimizer = tf.keras.optimizers.Adam(learning_rate=lr)\n",
        "  loss_fn = tf.keras.losses.SparseCategoricalCrossentropy()\n",
        "  model = Model(inputs=inputs, outputs=outputs)\n",
        "\n",
        "  model.compile(optimizer=optimizer, loss=loss_fn, metrics=[tf.keras.metrics.SparseCategoricalAccuracy()], steps_per_execution=32)\n",
        "\n",
        "model.summary()"
      ],
      "metadata": {
        "id": "PDB111TGEdqm",
        "colab": {
          "base_uri": "https://localhost:8080/"
        },
        "outputId": "e2bd3983-61a8-4f86-82e7-ecea5fae49be"
      },
      "execution_count": 26,
      "outputs": [
        {
          "output_type": "stream",
          "name": "stdout",
          "text": [
            "Model: \"model\"\n",
            "__________________________________________________________________________________________________\n",
            " Layer (type)                   Output Shape         Param #     Connected to                     \n",
            "==================================================================================================\n",
            " input_1 (InputLayer)           [(None, 32)]         0           []                               \n",
            "                                                                                                  \n",
            " embedding (Embedding)          (None, 32, 1024)     4194304     ['input_1[0][0]']                \n",
            "                                                                                                  \n",
            " gru (GRU)                      (None, 32, 1024)     6297600     ['embedding[0][0]']              \n",
            "                                                                                                  \n",
            " batch_normalization (BatchNorm  (None, 32, 1024)    4096        ['gru[0][0]']                    \n",
            " alization)                                                                                       \n",
            "                                                                                                  \n",
            " dropout (Dropout)              (None, 32, 1024)     0           ['batch_normalization[0][0]']    \n",
            "                                                                                                  \n",
            " attention (Attention)          (None, 32, 1024)     0           ['dropout[0][0]',                \n",
            "                                                                  'dropout[0][0]']                \n",
            "                                                                                                  \n",
            " concatenate (Concatenate)      (None, 32, 2048)     0           ['dropout[0][0]',                \n",
            "                                                                  'attention[0][0]']              \n",
            "                                                                                                  \n",
            " gru_1 (GRU)                    (None, 32, 1024)     9443328     ['concatenate[0][0]']            \n",
            "                                                                                                  \n",
            " batch_normalization_1 (BatchNo  (None, 32, 1024)    4096        ['gru_1[0][0]']                  \n",
            " rmalization)                                                                                     \n",
            "                                                                                                  \n",
            " dropout_1 (Dropout)            (None, 32, 1024)     0           ['batch_normalization_1[0][0]']  \n",
            "                                                                                                  \n",
            " attention_1 (Attention)        (None, 32, 1024)     0           ['dropout_1[0][0]',              \n",
            "                                                                  'dropout_1[0][0]']              \n",
            "                                                                                                  \n",
            " concatenate_1 (Concatenate)    (None, 32, 2048)     0           ['dropout_1[0][0]',              \n",
            "                                                                  'attention_1[0][0]']            \n",
            "                                                                                                  \n",
            " gru_2 (GRU)                    (None, 512)          3935232     ['concatenate_1[0][0]']          \n",
            "                                                                                                  \n",
            " batch_normalization_2 (BatchNo  (None, 512)         2048        ['gru_2[0][0]']                  \n",
            " rmalization)                                                                                     \n",
            "                                                                                                  \n",
            " dropout_2 (Dropout)            (None, 512)          0           ['batch_normalization_2[0][0]']  \n",
            "                                                                                                  \n",
            " dense (Dense)                  (None, 5)            2565        ['dropout_2[0][0]']              \n",
            "                                                                                                  \n",
            "==================================================================================================\n",
            "Total params: 23,883,269\n",
            "Trainable params: 23,878,149\n",
            "Non-trainable params: 5,120\n",
            "__________________________________________________________________________________________________\n"
          ]
        }
      ]
    },
    {
      "cell_type": "code",
      "source": [
        "model.fit(x_train, y_train, batch_size=batch_size, epochs=num_epochs, validation_data=(x_val, y_val), \n",
        "          callbacks=[EarlyStopping(patience=5)])\n"
      ],
      "metadata": {
        "id": "DZ69wFpsElCf"
      },
      "execution_count": null,
      "outputs": []
    },
    {
      "cell_type": "code",
      "source": [
        "inverse_label_dict = {}\n",
        "for k,v in label_dict.items():\n",
        "    inverse_label_dict[v] = k\n",
        "inverse_label_dict"
      ],
      "metadata": {
        "colab": {
          "base_uri": "https://localhost:8080/"
        },
        "id": "1eyAIrwREpFy",
        "outputId": "fe09b252-903d-4fdd-8b42-351f3bb5dbc8"
      },
      "execution_count": 31,
      "outputs": [
        {
          "output_type": "execute_result",
          "data": {
            "text/plain": [
              "{0: 'weary_face',\n",
              " 1: 'person_facepalming',\n",
              " 2: 'folded_hands',\n",
              " 3: 'thinking_face',\n",
              " 4: 'rolling_on_the_floor_laughing'}"
            ]
          },
          "metadata": {},
          "execution_count": 31
        }
      ]
    },
    {
      "cell_type": "code",
      "source": [
        "preds = []\n",
        "\n",
        "new_tweet = tweets[-(num_validation_samples):]\n",
        "new_tweet_tokens = tokenizer.texts_to_sequences(new_tweet)\n",
        "new_tweet_padded = pad_sequences(new_tweet_tokens, maxlen=max_length, padding='post', truncating='post')\n",
        "\n",
        "y_pred_probs = model.predict([new_tweet_padded])\n",
        "y_pred = np.argmax(y_pred_probs, axis=1)\n",
        "print(y_pred)"
      ],
      "metadata": {
        "colab": {
          "base_uri": "https://localhost:8080/"
        },
        "id": "f0cO3vffcoH8",
        "outputId": "f729e4f0-6212-4949-e218-09c585815e11"
      },
      "execution_count": 46,
      "outputs": [
        {
          "output_type": "stream",
          "name": "stdout",
          "text": [
            "2067/2067 [==============================] - 38s 18ms/step\n",
            "[2 0 0 ... 0 2 0]\n"
          ]
        }
      ]
    },
    {
      "cell_type": "code",
      "source": [
        "df = pd.DataFrame()\n",
        "df['tweets'] = new_tweet\n",
        "df['y_true'] = y_val\n",
        "df['y_true'] = df['y_true'].apply(lambda x: inverse_label_dict[x])\n",
        "df['y_pred'] = y_pred\n",
        "df['y_pred'] = df['y_pred'].apply(lambda x: inverse_label_dict[x])\n",
        "\n",
        "df.to_csv(\"results.csv\", index=None)\n",
        "df"
      ],
      "metadata": {
        "colab": {
          "base_uri": "https://localhost:8080/",
          "height": 424
        },
        "id": "DFLH7_kOcqiy",
        "outputId": "971d8f10-b196-4eaf-8321-ea0af0c4c883"
      },
      "execution_count": 47,
      "outputs": [
        {
          "output_type": "execute_result",
          "data": {
            "text/plain": [
              "                                                  tweets  \\\n",
              "0           rt this and in 5 minutes good luck will come   \n",
              "1                                ima miss this in august   \n",
              "2      im craving a steers burger i cant eat anything...   \n",
              "3      all too well sir hope your perfect skin kiehls...   \n",
              "4      whoever i get in a relationship with is gonna ...   \n",
              "...                                                  ...   \n",
              "66125  i dont know how im going to stream series if m...   \n",
              "66126       ive never learned to like it mugs or buckets   \n",
              "66127                  i wish i was with my valentine rn   \n",
              "66128            2 days of my cleanse downeternity to go   \n",
              "66129                             we love a simlish icon   \n",
              "\n",
              "                              y_true         y_pred  \n",
              "0                       folded_hands   folded_hands  \n",
              "1                         weary_face     weary_face  \n",
              "2                         weary_face     weary_face  \n",
              "3                       folded_hands   folded_hands  \n",
              "4                         weary_face   folded_hands  \n",
              "...                              ...            ...  \n",
              "66125                     weary_face  thinking_face  \n",
              "66126  rolling_on_the_floor_laughing  thinking_face  \n",
              "66127                     weary_face     weary_face  \n",
              "66128                     weary_face   folded_hands  \n",
              "66129  rolling_on_the_floor_laughing     weary_face  \n",
              "\n",
              "[66130 rows x 3 columns]"
            ],
            "text/html": [
              "\n",
              "  <div id=\"df-9e2ecf07-3792-4658-ade3-206faebfd60a\">\n",
              "    <div class=\"colab-df-container\">\n",
              "      <div>\n",
              "<style scoped>\n",
              "    .dataframe tbody tr th:only-of-type {\n",
              "        vertical-align: middle;\n",
              "    }\n",
              "\n",
              "    .dataframe tbody tr th {\n",
              "        vertical-align: top;\n",
              "    }\n",
              "\n",
              "    .dataframe thead th {\n",
              "        text-align: right;\n",
              "    }\n",
              "</style>\n",
              "<table border=\"1\" class=\"dataframe\">\n",
              "  <thead>\n",
              "    <tr style=\"text-align: right;\">\n",
              "      <th></th>\n",
              "      <th>tweets</th>\n",
              "      <th>y_true</th>\n",
              "      <th>y_pred</th>\n",
              "    </tr>\n",
              "  </thead>\n",
              "  <tbody>\n",
              "    <tr>\n",
              "      <th>0</th>\n",
              "      <td>rt this and in 5 minutes good luck will come</td>\n",
              "      <td>folded_hands</td>\n",
              "      <td>folded_hands</td>\n",
              "    </tr>\n",
              "    <tr>\n",
              "      <th>1</th>\n",
              "      <td>ima miss this in august</td>\n",
              "      <td>weary_face</td>\n",
              "      <td>weary_face</td>\n",
              "    </tr>\n",
              "    <tr>\n",
              "      <th>2</th>\n",
              "      <td>im craving a steers burger i cant eat anything...</td>\n",
              "      <td>weary_face</td>\n",
              "      <td>weary_face</td>\n",
              "    </tr>\n",
              "    <tr>\n",
              "      <th>3</th>\n",
              "      <td>all too well sir hope your perfect skin kiehls...</td>\n",
              "      <td>folded_hands</td>\n",
              "      <td>folded_hands</td>\n",
              "    </tr>\n",
              "    <tr>\n",
              "      <th>4</th>\n",
              "      <td>whoever i get in a relationship with is gonna ...</td>\n",
              "      <td>weary_face</td>\n",
              "      <td>folded_hands</td>\n",
              "    </tr>\n",
              "    <tr>\n",
              "      <th>...</th>\n",
              "      <td>...</td>\n",
              "      <td>...</td>\n",
              "      <td>...</td>\n",
              "    </tr>\n",
              "    <tr>\n",
              "      <th>66125</th>\n",
              "      <td>i dont know how im going to stream series if m...</td>\n",
              "      <td>weary_face</td>\n",
              "      <td>thinking_face</td>\n",
              "    </tr>\n",
              "    <tr>\n",
              "      <th>66126</th>\n",
              "      <td>ive never learned to like it mugs or buckets</td>\n",
              "      <td>rolling_on_the_floor_laughing</td>\n",
              "      <td>thinking_face</td>\n",
              "    </tr>\n",
              "    <tr>\n",
              "      <th>66127</th>\n",
              "      <td>i wish i was with my valentine rn</td>\n",
              "      <td>weary_face</td>\n",
              "      <td>weary_face</td>\n",
              "    </tr>\n",
              "    <tr>\n",
              "      <th>66128</th>\n",
              "      <td>2 days of my cleanse downeternity to go</td>\n",
              "      <td>weary_face</td>\n",
              "      <td>folded_hands</td>\n",
              "    </tr>\n",
              "    <tr>\n",
              "      <th>66129</th>\n",
              "      <td>we love a simlish icon</td>\n",
              "      <td>rolling_on_the_floor_laughing</td>\n",
              "      <td>weary_face</td>\n",
              "    </tr>\n",
              "  </tbody>\n",
              "</table>\n",
              "<p>66130 rows × 3 columns</p>\n",
              "</div>\n",
              "      <button class=\"colab-df-convert\" onclick=\"convertToInteractive('df-9e2ecf07-3792-4658-ade3-206faebfd60a')\"\n",
              "              title=\"Convert this dataframe to an interactive table.\"\n",
              "              style=\"display:none;\">\n",
              "        \n",
              "  <svg xmlns=\"http://www.w3.org/2000/svg\" height=\"24px\"viewBox=\"0 0 24 24\"\n",
              "       width=\"24px\">\n",
              "    <path d=\"M0 0h24v24H0V0z\" fill=\"none\"/>\n",
              "    <path d=\"M18.56 5.44l.94 2.06.94-2.06 2.06-.94-2.06-.94-.94-2.06-.94 2.06-2.06.94zm-11 1L8.5 8.5l.94-2.06 2.06-.94-2.06-.94L8.5 2.5l-.94 2.06-2.06.94zm10 10l.94 2.06.94-2.06 2.06-.94-2.06-.94-.94-2.06-.94 2.06-2.06.94z\"/><path d=\"M17.41 7.96l-1.37-1.37c-.4-.4-.92-.59-1.43-.59-.52 0-1.04.2-1.43.59L10.3 9.45l-7.72 7.72c-.78.78-.78 2.05 0 2.83L4 21.41c.39.39.9.59 1.41.59.51 0 1.02-.2 1.41-.59l7.78-7.78 2.81-2.81c.8-.78.8-2.07 0-2.86zM5.41 20L4 18.59l7.72-7.72 1.47 1.35L5.41 20z\"/>\n",
              "  </svg>\n",
              "      </button>\n",
              "      \n",
              "  <style>\n",
              "    .colab-df-container {\n",
              "      display:flex;\n",
              "      flex-wrap:wrap;\n",
              "      gap: 12px;\n",
              "    }\n",
              "\n",
              "    .colab-df-convert {\n",
              "      background-color: #E8F0FE;\n",
              "      border: none;\n",
              "      border-radius: 50%;\n",
              "      cursor: pointer;\n",
              "      display: none;\n",
              "      fill: #1967D2;\n",
              "      height: 32px;\n",
              "      padding: 0 0 0 0;\n",
              "      width: 32px;\n",
              "    }\n",
              "\n",
              "    .colab-df-convert:hover {\n",
              "      background-color: #E2EBFA;\n",
              "      box-shadow: 0px 1px 2px rgba(60, 64, 67, 0.3), 0px 1px 3px 1px rgba(60, 64, 67, 0.15);\n",
              "      fill: #174EA6;\n",
              "    }\n",
              "\n",
              "    [theme=dark] .colab-df-convert {\n",
              "      background-color: #3B4455;\n",
              "      fill: #D2E3FC;\n",
              "    }\n",
              "\n",
              "    [theme=dark] .colab-df-convert:hover {\n",
              "      background-color: #434B5C;\n",
              "      box-shadow: 0px 1px 3px 1px rgba(0, 0, 0, 0.15);\n",
              "      filter: drop-shadow(0px 1px 2px rgba(0, 0, 0, 0.3));\n",
              "      fill: #FFFFFF;\n",
              "    }\n",
              "  </style>\n",
              "\n",
              "      <script>\n",
              "        const buttonEl =\n",
              "          document.querySelector('#df-9e2ecf07-3792-4658-ade3-206faebfd60a button.colab-df-convert');\n",
              "        buttonEl.style.display =\n",
              "          google.colab.kernel.accessAllowed ? 'block' : 'none';\n",
              "\n",
              "        async function convertToInteractive(key) {\n",
              "          const element = document.querySelector('#df-9e2ecf07-3792-4658-ade3-206faebfd60a');\n",
              "          const dataTable =\n",
              "            await google.colab.kernel.invokeFunction('convertToInteractive',\n",
              "                                                     [key], {});\n",
              "          if (!dataTable) return;\n",
              "\n",
              "          const docLinkHtml = 'Like what you see? Visit the ' +\n",
              "            '<a target=\"_blank\" href=https://colab.research.google.com/notebooks/data_table.ipynb>data table notebook</a>'\n",
              "            + ' to learn more about interactive tables.';\n",
              "          element.innerHTML = '';\n",
              "          dataTable['output_type'] = 'display_data';\n",
              "          await google.colab.output.renderOutput(dataTable, element);\n",
              "          const docLink = document.createElement('div');\n",
              "          docLink.innerHTML = docLinkHtml;\n",
              "          element.appendChild(docLink);\n",
              "        }\n",
              "      </script>\n",
              "    </div>\n",
              "  </div>\n",
              "  "
            ]
          },
          "metadata": {},
          "execution_count": 47
        }
      ]
    },
    {
      "cell_type": "code",
      "source": [
        "from sklearn.metrics import confusion_matrix, accuracy_score\n",
        "confusion_matrix(y_val, y_pred), accuracy_score(y_val, y_pred) "
      ],
      "metadata": {
        "colab": {
          "base_uri": "https://localhost:8080/"
        },
        "id": "d4pKXNnlgDWb",
        "outputId": "c92e6b72-3899-4d16-9c09-e856617e08e5"
      },
      "execution_count": 53,
      "outputs": [
        {
          "output_type": "execute_result",
          "data": {
            "text/plain": [
              "(array([[ 7941,  4101,  1226,  2361,   571],\n",
              "        [  660,  7970,   450,  2024,   378],\n",
              "        [  438,   766, 13520,  1374,   199],\n",
              "        [  313,  1323,   495,  9838,   252],\n",
              "        [  490,  2517,   719,  2469,  3735]]),\n",
              " 0.6502948737335551)"
            ]
          },
          "metadata": {},
          "execution_count": 53
        }
      ]
    },
    {
      "cell_type": "code",
      "source": [],
      "metadata": {
        "id": "PiwYqmRYl7_K"
      },
      "execution_count": null,
      "outputs": []
    }
  ],
  "metadata": {
    "colab": {
      "provenance": []
    },
    "gpuClass": "standard",
    "kernelspec": {
      "display_name": "Python 3",
      "name": "python3"
    },
    "language_info": {
      "name": "python"
    },
    "accelerator": "TPU"
  },
  "nbformat": 4,
  "nbformat_minor": 0
}